{
 "cells": [
  {
   "cell_type": "code",
   "execution_count": null,
   "metadata": {},
   "outputs": [],
   "source": [
    "import pandas as pd\n",
    "import numpy as np\n",
    "import seaborn as sns\n",
    "import matplotlib.pyplot as plt\n",
    "%matplotlib inline"
   ]
  },
  {
   "cell_type": "code",
   "execution_count": null,
   "metadata": {},
   "outputs": [],
   "source": [
    "#Loading the data sets \n",
    "title_basics = pd.read_csv('zippedData/imdb.title.basics.csv.gz')\n",
    "title_ratings = pd.read_csv('zippedData/imdb.title.ratings.csv.gz')\n",
    "movie_gross = pd.read_csv('zippedData/bom.movie_gross.csv.gz')\n",
    "movie_budget = pd.read_csv('zippedData/tn.movie_budgets.csv.gz')\n",
    "tmdb_movies = pd.read_csv('zippedData/tmdb.movies.csv.gz')\n",
    "title_crew = pd.read_csv('zippedData/imdb.title.crew.csv.gz')\n",
    "title_principals = pd.read_csv('zippedData/imdb.title.principals.csv.gz')\n",
    "name_basics = pd.read_csv('zippedData/imdb.name.basics.csv.gz')\n",
    "title_akas = pd.read_csv('zippedData/imdb.title.akas.csv.gz')\n",
    "movie_info = pd.read_csv('zippedData/rt.movie_info.tsv.gz', delimiter='\\t')"
   ]
  },
  {
   "cell_type": "code",
   "execution_count": null,
   "metadata": {},
   "outputs": [],
   "source": [
    "#Viewing the first 5 rows\n",
    "title_basics.head()"
   ]
  },
  {
   "cell_type": "code",
   "execution_count": null,
   "metadata": {},
   "outputs": [],
   "source": [
    "#Information on the data\n",
    "title_basics.info()"
   ]
  },
  {
   "cell_type": "code",
   "execution_count": null,
   "metadata": {},
   "outputs": [],
   "source": [
    "#Information on the data\n",
    "title_basics.describe()"
   ]
  },
  {
   "cell_type": "code",
   "execution_count": null,
   "metadata": {},
   "outputs": [],
   "source": [
    "#Reading the first 5 rows of the data\n",
    "title_ratings.head()"
   ]
  },
  {
   "cell_type": "code",
   "execution_count": null,
   "metadata": {},
   "outputs": [],
   "source": [
    "#Information on the data\n",
    "title_ratings.info()"
   ]
  },
  {
   "cell_type": "code",
   "execution_count": null,
   "metadata": {},
   "outputs": [],
   "source": [
    "#Information on the data\n",
    "title_ratings.describe()"
   ]
  },
  {
   "cell_type": "code",
   "execution_count": null,
   "metadata": {},
   "outputs": [],
   "source": []
  },
  {
   "cell_type": "markdown",
   "metadata": {},
   "source": [
    "#### 1. The Relationship between movie genre and average rating\n",
    "\n",
    "To answer this question, i can drop the runtime_minutes and numvotes column since i will not be requiring them for this step."
   ]
  },
  {
   "cell_type": "code",
   "execution_count": null,
   "metadata": {},
   "outputs": [],
   "source": [
    "new_tbasics_and_ratings = tbasics_and_ratings.drop(columns = ['numvotes'])\n",
    "new_tbasics_and_ratings.head()"
   ]
  },
  {
   "cell_type": "code",
   "execution_count": null,
   "metadata": {},
   "outputs": [],
   "source": [
    "new_tbasics_and_ratings[['genres', 'averagerating']].hist()"
   ]
  },
  {
   "cell_type": "code",
   "execution_count": null,
   "metadata": {},
   "outputs": [],
   "source": [
    "#Grouping the data by unique genre sets and the mean of the ratings\n",
    "grouped_new_tbasics_and_ratings = new_tbasics_and_ratings.groupby('genres').mean('averagerating')\n",
    "grouped_new_tbasics_and_ratings.head()"
   ]
  },
  {
   "cell_type": "code",
   "execution_count": null,
   "metadata": {},
   "outputs": [],
   "source": [
    "#Sorting the values\n",
    "grouped_new_tbasics_and_ratings.sort_values(by=['averagerating'], ascending=False, inplace=True)\n",
    "grouped_new_tbasics_and_ratings.head()"
   ]
  },
  {
   "cell_type": "code",
   "execution_count": null,
   "metadata": {},
   "outputs": [],
   "source": [
    "high_rated = grouped_new_tbasics_and_ratings.iloc[:10]\n",
    "plot_high_rated = high_rated.reset_index()"
   ]
  },
  {
   "cell_type": "code",
   "execution_count": null,
   "metadata": {},
   "outputs": [],
   "source": [
    "low_rated = grouped_new_tbasics_and_ratings.iloc[-10:]\n",
    "plot_low_rated = low_rated.reset_index()"
   ]
  },
  {
   "cell_type": "code",
   "execution_count": null,
   "metadata": {},
   "outputs": [],
   "source": [
    "#Setting up the plot\n",
    "fig, (ax1, ax2) = plt.subplots(ncols=2, figsize=(20, 8))\n",
    "\n",
    "ax1.bar(\n",
    "    x=plot_high_rated[\"genres\"], height=plot_high_rated[\"averagerating\"]\n",
    ")\n",
    "ax2.bar(x=plot_low_rated[\"genres\"], height=plot_low_rated[\"averagerating\"])\n",
    "\n",
    "ax1.tick_params(axis=\"x\", labelrotation=90)\n",
    "ax2.tick_params(axis=\"x\", labelrotation=90)\n",
    "ax1.set_ylabel(\"Movie Average Rating\")\n",
    "ax2.set_ylabel(\"Movie Average Rating\")\n",
    "ax1.set_title(\"Highest Rated Movies by Genre\")\n",
    "ax2.set_title(\"Lowest Rated Movies by Genre\");"
   ]
  },
  {
   "cell_type": "markdown",
   "metadata": {},
   "source": [
    "__commentary on the visual__"
   ]
  },
  {
   "cell_type": "code",
   "execution_count": null,
   "metadata": {},
   "outputs": [],
   "source": []
  },
  {
   "cell_type": "code",
   "execution_count": null,
   "metadata": {},
   "outputs": [],
   "source": [
    "#Cleaning the production_budget, domestic_gross and worldwide_gross columns\n",
    "new_movie_budget['production_budget'] = new_movie_budget['production_budget'].str.replace(',', '').str.replace('\\$','', regex = True)\n",
    "new_movie_budget['domestic_gross'] = new_movie_budget['domestic_gross'].str.replace(',', '').str.replace('\\$','', regex = True)\n",
    "new_movie_budget['worldwide_gross'] = new_movie_budget['worldwide_gross'].str.replace(',', '').str.replace('\\$','', regex = True)"
   ]
  },
  {
   "cell_type": "code",
   "execution_count": null,
   "metadata": {},
   "outputs": [],
   "source": []
  },
  {
   "cell_type": "code",
   "execution_count": null,
   "metadata": {},
   "outputs": [],
   "source": [
    "new_movie_budget['production_budget'] = new_movie_budget['production_budget'].astype('int64')\n",
    "new_movie_budget['domestic_gross'] = new_movie_budget['domestic_gross'].astype('int64')\n",
    "new_movie_budget['worldwide_gross'] = new_movie_budget['worldwide_gross'].astype('int64')"
   ]
  },
  {
   "cell_type": "code",
   "execution_count": null,
   "metadata": {},
   "outputs": [],
   "source": [
    "print(new_movie_budget.dtypes)"
   ]
  },
  {
   "cell_type": "markdown",
   "metadata": {},
   "source": [
    "The highest rated movies type is documentary/family/romance, followed closely by documentary/family/musical, adventure/documentary/western and action/documentary/family. \n",
    "The genre documentary is very popular and appears in the 8 out of 10 times in the first 10 highest rated movie genre sets. \n",
    "\n",
    "The lowest rated movie type is adventure/drama/musical. Other low rated film types include animation/comedy/romance, adult/horror and family/musical. \n",
    "There is no recurrent type in the 10 lowest rated movie genres. \n",
    "\n",
    "The film genres with the highest movie budgets are: adventure/fantasy, action/adventure/sci-fi and adventure/drama/sci-fi. In the top 10 movie genres with the highest budgets, adventure appears 8 times.\n",
    "\n",
    "The film genres with the lowest movie budgets are documentary/drama/sport, comedy/fantasy/thriller and crime/romance/thriller. In the 10 movies with the lowest budget, documentary has the highest frequency appearing 5 times followed by drama at 4 times.\n",
    "\n",
    "Domestically, the film genres action/comedy/history have the highest return on investment. They are trailed by adventure/drama,horror, horror/thriller and drama/family/fantasy. The recurrent genres in the top 10 highest grossing films domestically are fantasy and drama\n",
    "\n",
    "The bottom 10 movie genres have a negative return on investment ranging around -99% with all of them making returning less than half of the production costs. The lowest three genres are drama/history/sport, drama/war/western and comedy/fantasy/musical. Once again drama is a recurrent genre in the loss making film types.\n",
    "\n",
    "Worldwide, action/comedy/history film genre still leads in terms of grossing, with the highest return on investment of about 10,000%. It is trailed by adventure/drama,horror, drama/family/fantasy and horror/thriller. Drama is a recurrent genres in the top 10 highest grossing films worldwide, appearing 5 times.\n",
    "\n",
    "The bottom 10 movie genres worldwide also have a negative return on investment ranging from -90% to -99%. The lowest three genres worlwide in terms of return on investment are comedy/fantasy/musical, comedy/horror/sci-fi and action/adventure. Drama yet again is a recurrent genre in this category appearing 5 times.\n",
    "\n"
   ]
  }
 ],
 "metadata": {
  "kernelspec": {
   "display_name": "Python(learn-env)",
   "language": "python",
   "name": "learn-env"
  },
  "language_info": {
   "codemirror_mode": {
    "name": "ipython",
    "version": 3
   },
   "file_extension": ".py",
   "mimetype": "text/x-python",
   "name": "python",
   "nbconvert_exporter": "python",
   "pygments_lexer": "ipython3",
   "version": "3.8.5"
  }
 },
 "nbformat": 4,
 "nbformat_minor": 4
}
